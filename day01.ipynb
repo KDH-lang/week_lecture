{
  "nbformat": 4,
  "nbformat_minor": 0,
  "metadata": {
    "colab": {
      "provenance": []
    },
    "kernelspec": {
      "name": "python3",
      "display_name": "Python 3"
    },
    "language_info": {
      "name": "python"
    }
  },
  "cells": [
    {
      "cell_type": "markdown",
      "source": [
        "print - input"
      ],
      "metadata": {
        "id": "I6Z6liFCHhDC"
      }
    },
    {
      "cell_type": "markdown",
      "source": [
        "변수 (값을 저장하는 이름표)\n"
      ],
      "metadata": {
        "id": "IeEtWprWEXRh"
      }
    },
    {
      "cell_type": "code",
      "execution_count": 14,
      "metadata": {
        "colab": {
          "base_uri": "https://localhost:8080/",
          "height": 0
        },
        "id": "_npHAEvM9O-x",
        "outputId": "077cf193-fb89-41ae-8fb8-3fd5c44d6643"
      },
      "outputs": [
        {
          "output_type": "stream",
          "name": "stdout",
          "text": [
            "2\n",
            "4\n"
          ]
        }
      ],
      "source": [
        "print(1+1)\n",
        "print(2+2)"
      ]
    },
    {
      "cell_type": "code",
      "source": [
        "print(\"안녕하세요\")"
      ],
      "metadata": {
        "colab": {
          "base_uri": "https://localhost:8080/",
          "height": 0
        },
        "id": "hQB5nnSE-CpP",
        "outputId": "bf6d85cc-5c6d-452b-8be2-0a291dc17b9c"
      },
      "execution_count": 15,
      "outputs": [
        {
          "output_type": "stream",
          "name": "stdout",
          "text": [
            "안녕하세요\n"
          ]
        }
      ]
    },
    {
      "cell_type": "code",
      "source": [
        "print('''동해물과 백두산이\n",
        "마르고 닳도록\n",
        "...''')"
      ],
      "metadata": {
        "colab": {
          "base_uri": "https://localhost:8080/",
          "height": 0
        },
        "id": "Enf1tEbzIW36",
        "outputId": "9467bbee-a7e8-42d2-b6ec-269a3909776b"
      },
      "execution_count": 18,
      "outputs": [
        {
          "output_type": "stream",
          "name": "stdout",
          "text": [
            "동해물과 백두산이 \n",
            "마르고 닳도록\n",
            "...\n"
          ]
        }
      ]
    },
    {
      "cell_type": "code",
      "source": [
        "input('당신의 이름은 : ')"
      ],
      "metadata": {
        "colab": {
          "base_uri": "https://localhost:8080/",
          "height": 54
        },
        "id": "ZC6vAvPDIwiU",
        "outputId": "9390b6b8-dd99-40e8-da2b-7e0497621f83"
      },
      "execution_count": 19,
      "outputs": [
        {
          "name": "stdout",
          "output_type": "stream",
          "text": [
            "당신의 이름은 : 홍길동\n"
          ]
        },
        {
          "output_type": "execute_result",
          "data": {
            "text/plain": [
              "'홍길동'"
            ],
            "application/vnd.google.colaboratory.intrinsic+json": {
              "type": "string"
            }
          },
          "metadata": {},
          "execution_count": 19
        }
      ]
    },
    {
      "cell_type": "code",
      "source": [
        "print(input('당신의 이름은: ')) # 사용자의 입력을 받는 명령어\n",
        "print('반갑습니다') # print는 화면에 출력하는 기능"
      ],
      "metadata": {
        "colab": {
          "base_uri": "https://localhost:8080/",
          "height": 0
        },
        "id": "kZTENryTJOeq",
        "outputId": "d0a27f23-1a21-4c22-a737-29df8e4bfb6a"
      },
      "execution_count": 25,
      "outputs": [
        {
          "output_type": "stream",
          "name": "stdout",
          "text": [
            "당신의 이름은: 123\n",
            "123\n",
            "반갑습니다\n"
          ]
        }
      ]
    },
    {
      "cell_type": "code",
      "source": [
        "#변수명 = 값\n",
        "#변수명은 숫자로 시작할 수 없고 공백이 있으면 안되고 예약어는 불가\n",
        "# print = '이것은 프린트' # 예약어는 불가 --> 문법적으로 막지 않음\n",
        "변수명 = \"값\"\n",
        "print(변수명)"
      ],
      "metadata": {
        "colab": {
          "base_uri": "https://localhost:8080/",
          "height": 0
        },
        "id": "dWpSwfe2KVVD",
        "outputId": "e2cf1a9f-123e-45ca-add4-c0b4d509c3a9"
      },
      "execution_count": 24,
      "outputs": [
        {
          "output_type": "stream",
          "name": "stdout",
          "text": [
            "값\n"
          ]
        }
      ]
    },
    {
      "cell_type": "code",
      "source": [
        "name = '안녕하세요'\n",
        "print(name)\n",
        "name = 1004\n",
        "print(name)\n"
      ],
      "metadata": {
        "colab": {
          "base_uri": "https://localhost:8080/",
          "height": 0
        },
        "id": "VL6YHWdENzn0",
        "outputId": "ec7c8e5a-ebfd-4bff-f0cf-46790211f1eb"
      },
      "execution_count": 29,
      "outputs": [
        {
          "output_type": "stream",
          "name": "stdout",
          "text": [
            "안녕하세요\n",
            "1004\n"
          ]
        }
      ]
    },
    {
      "cell_type": "code",
      "source": [
        "name2 = name + 100\n",
        "print(name2)"
      ],
      "metadata": {
        "colab": {
          "base_uri": "https://localhost:8080/"
        },
        "id": "RllAmB91OoVs",
        "outputId": "cd6a251c-575e-4548-dcc3-eeb5d16fc6b8"
      },
      "execution_count": 35,
      "outputs": [
        {
          "output_type": "stream",
          "name": "stdout",
          "text": [
            "1104\n"
          ]
        }
      ]
    },
    {
      "cell_type": "code",
      "source": [
        "name = '안녕하세요'\n",
        "name3 = name + 100\n",
        "name3"
      ],
      "metadata": {
        "colab": {
          "base_uri": "https://localhost:8080/",
          "height": 184
        },
        "id": "YIO24v1xPDiE",
        "outputId": "22923c91-6114-4368-db27-4a48396e8ed1"
      },
      "execution_count": 36,
      "outputs": [
        {
          "output_type": "error",
          "ename": "TypeError",
          "evalue": "can only concatenate str (not \"int\") to str",
          "traceback": [
            "\u001b[0;31m---------------------------------------------------------------------------\u001b[0m",
            "\u001b[0;31mTypeError\u001b[0m                                 Traceback (most recent call last)",
            "\u001b[0;32m<ipython-input-36-812f89932efd>\u001b[0m in \u001b[0;36m<cell line: 0>\u001b[0;34m()\u001b[0m\n\u001b[1;32m      1\u001b[0m \u001b[0mname\u001b[0m \u001b[0;34m=\u001b[0m \u001b[0;34m'안녕하세요'\u001b[0m\u001b[0;34m\u001b[0m\u001b[0;34m\u001b[0m\u001b[0m\n\u001b[0;32m----> 2\u001b[0;31m \u001b[0mname3\u001b[0m \u001b[0;34m=\u001b[0m \u001b[0mname\u001b[0m \u001b[0;34m+\u001b[0m \u001b[0;36m100\u001b[0m\u001b[0;34m\u001b[0m\u001b[0;34m\u001b[0m\u001b[0m\n\u001b[0m\u001b[1;32m      3\u001b[0m \u001b[0mname3\u001b[0m\u001b[0;34m\u001b[0m\u001b[0;34m\u001b[0m\u001b[0m\n",
            "\u001b[0;31mTypeError\u001b[0m: can only concatenate str (not \"int\") to str"
          ]
        }
      ]
    },
    {
      "cell_type": "code",
      "source": [
        "name = '안녕하세요'\n",
        "name3 = name + '100'\n",
        "name3"
      ],
      "metadata": {
        "colab": {
          "base_uri": "https://localhost:8080/",
          "height": 35
        },
        "id": "cxJv2Lz-Pl-T",
        "outputId": "6ab733ff-94ca-44e4-d495-3ccacbdcf1de"
      },
      "execution_count": 37,
      "outputs": [
        {
          "output_type": "execute_result",
          "data": {
            "text/plain": [
              "'안녕하세요100'"
            ],
            "application/vnd.google.colaboratory.intrinsic+json": {
              "type": "string"
            }
          },
          "metadata": {},
          "execution_count": 37
        }
      ]
    },
    {
      "cell_type": "code",
      "source": [
        "name = '홍길동'\n",
        "age = 30\n",
        "# 출력은... 안녕하세요 000님 반갑습니다. 나이가 00 이시군요 --> 문장을 만들어서 변수에 저장하고 출력\n",
        "result = '안녕하세요 ' +name+ '님 반갑습니다 나이가 ' +str(age)+ '이시군요'\n",
        "print(result)"
      ],
      "metadata": {
        "colab": {
          "base_uri": "https://localhost:8080/"
        },
        "id": "lF-u01ZWPucU",
        "outputId": "032f97af-4e63-4361-80cd-00e4bef4ee7d"
      },
      "execution_count": 56,
      "outputs": [
        {
          "output_type": "stream",
          "name": "stdout",
          "text": [
            "안녕하세요 홍길동님 반갑습니다 나이가 30이시군요\n"
          ]
        }
      ]
    },
    {
      "cell_type": "code",
      "source": [
        "'안녕하세요 ' * 10"
      ],
      "metadata": {
        "colab": {
          "base_uri": "https://localhost:8080/",
          "height": 35
        },
        "id": "dsr1Wk4ZRokc",
        "outputId": "4575775d-576c-462c-8990-e9ce8d0542db"
      },
      "execution_count": 59,
      "outputs": [
        {
          "output_type": "execute_result",
          "data": {
            "text/plain": [
              "'안녕하세요 안녕하세요 안녕하세요 안녕하세요 안녕하세요 안녕하세요 안녕하세요 안녕하세요 안녕하세요 안녕하세요 '"
            ],
            "application/vnd.google.colaboratory.intrinsic+json": {
              "type": "string"
            }
          },
          "metadata": {},
          "execution_count": 59
        }
      ]
    },
    {
      "cell_type": "code",
      "source": [
        "name = input('이름을 입력하세요 ')\n",
        "age = input('나이를 입력하세요 ')\n",
        "# 출력은... 안녕하세요 000님 반갑습니다. 나이가 00 이시군요 --> 문장을 만들어서 변수에 저장하고 출력\n",
        "result = '안녕하세요 ' +name+ '님 반갑습니다 나이가 ' +str(age)+ '이시군요'\n",
        "print(result)"
      ],
      "metadata": {
        "colab": {
          "base_uri": "https://localhost:8080/"
        },
        "id": "mw-Skfp9SuXF",
        "outputId": "b9077fe5-49ae-4215-acbb-f22aeae35eb4"
      },
      "execution_count": 61,
      "outputs": [
        {
          "output_type": "stream",
          "name": "stdout",
          "text": [
            "이름을 입력하세요 30\n",
            "나이를 입력하세요30\n",
            "안녕하세요 30님 반갑습니다 나이가 30이시군요\n"
          ]
        }
      ]
    },
    {
      "cell_type": "code",
      "source": [
        "# 문자형 숫자를 정수로 변환 --> int('20')\n",
        "num1 = input('첫 번째 정수를 입력하세요 ')\n",
        "num2 = input('두 번째 정수를 입력하세요 ')\n",
        "result = int(num1) + int(num2)\n",
        "print(result)\n",
        "print('두 정수의 합은 : ' + str(result))"
      ],
      "metadata": {
        "colab": {
          "base_uri": "https://localhost:8080/"
        },
        "id": "WCDX2EcbTJHU",
        "outputId": "91650cd9-54a3-456e-ef8c-8601bc9abb41"
      },
      "execution_count": 68,
      "outputs": [
        {
          "output_type": "stream",
          "name": "stdout",
          "text": [
            "첫 번째 정수를 입력하세요 10\n",
            "두 번째 정수를 입력하세요 20\n",
            "30\n",
            "두 정수의 합은 : 30\n"
          ]
        }
      ]
    },
    {
      "cell_type": "markdown",
      "source": [
        "bool 형은 참(True)과 거짓(False)을 표현하는 논리형 데이터"
      ],
      "metadata": {
        "id": "LfGlxYVZW1_W"
      }
    },
    {
      "cell_type": "code",
      "source": [
        "is_adult = True\n",
        "is_success = True\n",
        "is_pass = True"
      ],
      "metadata": {
        "colab": {
          "base_uri": "https://localhost:8080/"
        },
        "id": "Ln5wTd1QXZG1",
        "outputId": "b858842d-4f92-4152-f234-56c210d3d8b5"
      },
      "execution_count": 70,
      "outputs": [
        {
          "output_type": "execute_result",
          "data": {
            "text/plain": [
              "True"
            ]
          },
          "metadata": {},
          "execution_count": 70
        }
      ]
    },
    {
      "cell_type": "code",
      "source": [
        "temp = 10 > 100\n",
        "print(temp)"
      ],
      "metadata": {
        "colab": {
          "base_uri": "https://localhost:8080/"
        },
        "id": "IkSvzz8OXj-W",
        "outputId": "6660847e-44b9-4204-e165-58cbd77ba921"
      },
      "execution_count": 72,
      "outputs": [
        {
          "output_type": "stream",
          "name": "stdout",
          "text": [
            "False\n"
          ]
        }
      ]
    },
    {
      "cell_type": "code",
      "source": [
        "# 변수에 저장할 수 있는 데이터 : 문자, 숫자(정수, 실수), bool"
      ],
      "metadata": {
        "id": "TuKq4LJSX7u9"
      },
      "execution_count": null,
      "outputs": []
    },
    {
      "cell_type": "code",
      "source": [
        "# 정리\n",
        "# 명령어 또는 함수 : print, input, str, int\n",
        "# 변수정의, 만드는 방법(할당), 사용하는 방법(새로운 변수에 할당, 변수 간 연산)"
      ],
      "metadata": {
        "id": "ioxUhLL8YZzW"
      },
      "execution_count": null,
      "outputs": []
    },
    {
      "cell_type": "code",
      "source": [
        "# 복잡한 형태의 문자열 만들기 - f-string"
      ],
      "metadata": {
        "id": "jnoYczGhYpTm"
      },
      "execution_count": null,
      "outputs": []
    },
    {
      "cell_type": "code",
      "source": [
        "name = \"지민\"\n",
        "age = 20\n",
        "\n",
        "print(f\"안녕, 나는 {name}이고, 나이는 {age}살이야.\")\n"
      ],
      "metadata": {
        "colab": {
          "base_uri": "https://localhost:8080/"
        },
        "id": "kWBXIJ6UYu6G",
        "outputId": "57e858a4-2f42-4d9a-de7e-fb2f867ede27"
      },
      "execution_count": 79,
      "outputs": [
        {
          "output_type": "stream",
          "name": "stdout",
          "text": [
            "안녕, 나는 지민이고, 나이는 20살이야.\n"
          ]
        }
      ]
    },
    {
      "cell_type": "code",
      "source": [
        "name = input(\"이름을 입력하세요 : \")\n",
        "age = input(\"나이는 몇 살인가요 : \")\n",
        "adress = input(\"주소를 입력하세요 : \")\n",
        "\n",
        "print(f\"{name}님의 주소는 {adress}입니다. 나이는 {age}입니다.\")\n"
      ],
      "metadata": {
        "colab": {
          "base_uri": "https://localhost:8080/"
        },
        "id": "y7NXxxjZa9Bv",
        "outputId": "8da66c84-18a0-4b25-e763-8d5680771ca1"
      },
      "execution_count": 81,
      "outputs": [
        {
          "output_type": "stream",
          "name": "stdout",
          "text": [
            "이름을 입력하세요 : 방가\n",
            "나이는 몇 살인가요 : 30\n",
            "주소를 입력하세요 : 서울시\n",
            "방가님의 주소는 서울시입니다. 나이는 30입니다.\n"
          ]
        }
      ]
    }
  ]
}