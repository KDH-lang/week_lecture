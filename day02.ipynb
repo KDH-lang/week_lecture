{
  "nbformat": 4,
  "nbformat_minor": 0,
  "metadata": {
    "colab": {
      "provenance": [],
      "authorship_tag": "ABX9TyNGj1aN0hR3tN/SupZ/Xev3",
      "include_colab_link": true
    },
    "kernelspec": {
      "name": "python3",
      "display_name": "Python 3"
    },
    "language_info": {
      "name": "python"
    }
  },
  "cells": [
    {
      "cell_type": "markdown",
      "metadata": {
        "id": "view-in-github",
        "colab_type": "text"
      },
      "source": [
        "<a href=\"https://colab.research.google.com/github/KDH-lang/week_lecture/blob/main/day02.ipynb\" target=\"_parent\"><img src=\"https://colab.research.google.com/assets/colab-badge.svg\" alt=\"Open In Colab\"/></a>"
      ]
    },
    {
      "cell_type": "markdown",
      "source": [
        "튜플\n"
      ],
      "metadata": {
        "id": "VjgyM4WdD1_t"
      }
    },
    {
      "cell_type": "code",
      "source": [],
      "metadata": {
        "id": "bl9pIyo-D6Bt"
      },
      "execution_count": null,
      "outputs": []
    },
    {
      "source": [
        "# 튜플 생성 예제\n",
        "\n",
        "# 정수, 문자열, 부동소수점을 포함하는 튜플 생성\n",
        "my_tuple = (1, \"hello\", 3.14)\n",
        "print(my_tuple) # 튜플 출력\n",
        "\n",
        "# 단일 요소를 가진 튜플 생성 시에는 요소 뒤에 쉼표를 붙여야 합니다.\n",
        "single_element_tuple = (5,)\n",
        "print(single_element_tuple)\n",
        "\n",
        "# 빈 튜플 생성\n",
        "empty_tuple = ()\n",
        "print(empty_tuple)\n",
        "\n",
        "# 튜플의 요소 접근 (인덱싱)\n",
        "print(my_tuple[0])  # 첫 번째 요소 (인덱스 0)\n",
        "print(my_tuple[1])  # 두 번째 요소 (인덱스 1)\n",
        "\n",
        "# 튜플 슬라이싱\n",
        "print(my_tuple[0:2]) # 인덱스 0부터 1까지의 요소 (인덱스 2는 포함되지 않음)\n",
        "\n",
        "# 튜플 길이 확인\n",
        "print(len(my_tuple))\n",
        "\n",
        "# 튜플은 변경할 수 없습니다. 따라서 요소 추가, 삭제, 수정이 불가능합니다.\n",
        "# my_tuple[0] = 10 # 이 코드는 오류를 발생시킵니다.\n",
        "\n",
        "# 튜플 언패킹 (튜플의 각 요소를 변수에 할당)\n",
        "a, b, c = my_tuple\n",
        "print(a)\n",
        "print(b)\n",
        "print(c)\n",
        "\n",
        "# 튜플 안에 튜플을 포함할 수 있습니다. (중첩 튜플)\n",
        "nested_tuple = ((1, 2), (3, 4))\n",
        "print(nested_tuple)\n",
        "\n",
        "# 튜플 반복\n",
        "for item in my_tuple:\n",
        "  print(item)\n",
        "\n",
        "# 튜플은 집합(set), 리스트(list)와 같은 다른 데이터 타입으로 변환할 수 있습니다.\n",
        "my_list = list(my_tuple)\n",
        "print(my_list)\n",
        "\n",
        "my_set = set(my_tuple)\n",
        "print(my_set)"
      ],
      "cell_type": "code",
      "metadata": {
        "colab": {
          "base_uri": "https://localhost:8080/"
        },
        "id": "Le-QfNX2En2d",
        "outputId": "f273a972-b28b-4b52-f7bc-2c58a402f3e0"
      },
      "execution_count": null,
      "outputs": [
        {
          "output_type": "stream",
          "name": "stdout",
          "text": [
            "(1, 'hello', 3.14)\n",
            "(5,)\n",
            "()\n",
            "1\n",
            "hello\n",
            "(1, 'hello')\n",
            "3\n",
            "1\n",
            "hello\n",
            "3.14\n",
            "((1, 2), (3, 4))\n",
            "1\n",
            "hello\n",
            "3.14\n",
            "[1, 'hello', 3.14]\n",
            "{1, 3.14, 'hello'}\n"
          ]
        }
      ]
    },
    {
      "cell_type": "code",
      "source": [
        "# 샘플로 튜플데이터 만들기, 최초 만든 데이터는 변형 불가능 - Read Only\n",
        "# 원본 데이터를 보호\n",
        "sample = (1, 2, 3, 4, 5, 1, 1, 1)\n",
        "sample2 = [1, 2, 3, 4, 5]\n",
        "print(sample.count(1))\n",
        "print(sample.index(4))\n",
        "\n"
      ],
      "metadata": {
        "colab": {
          "base_uri": "https://localhost:8080/"
        },
        "id": "XqW-s6FnFOL3",
        "outputId": "170f7a5b-9f20-4cd4-fc83-38ff0851bf9a"
      },
      "execution_count": null,
      "outputs": [
        {
          "output_type": "stream",
          "name": "stdout",
          "text": [
            "4\n",
            "3\n"
          ]
        }
      ]
    },
    {
      "cell_type": "code",
      "source": [
        "# 언패킹\n",
        "sample = (1, 2, 3, 4, 5)\n",
        "a, b, c, d, e = sample\n",
        "print(a, b, c, d, e)\n"
      ],
      "metadata": {
        "colab": {
          "base_uri": "https://localhost:8080/"
        },
        "id": "w6_YHhNhGNaH",
        "outputId": "dee28f76-3188-47e6-c0cb-d96cf670ccd8"
      },
      "execution_count": null,
      "outputs": [
        {
          "output_type": "stream",
          "name": "stdout",
          "text": [
            "1 2 3 4 5\n"
          ]
        }
      ]
    },
    {
      "cell_type": "code",
      "source": [
        "# [국,영,수], 이름, 나이를 가지고 있는 학생 리스트를 만들기\n",
        "student = [[90,95,97],'홍길동',25]\n",
        "# unpacking\n",
        "score, name, age = student\n",
        "kor, eng, math = score\n",
        "\n",
        "print(kor, eng, math, name, age)\n"
      ],
      "metadata": {
        "colab": {
          "base_uri": "https://localhost:8080/"
        },
        "id": "7yyROn7DJhlu",
        "outputId": "16e53e21-d664-4abd-cdaa-21571220ada4"
      },
      "execution_count": null,
      "outputs": [
        {
          "output_type": "stream",
          "name": "stdout",
          "text": [
            "90 95 97 홍길동 25\n"
          ]
        }
      ]
    },
    {
      "cell_type": "code",
      "source": [
        "# 슬라이싱\n",
        "sample = (1, 2, 3, 4, 5)\n",
        "print(sample[1:3])\n",
        "\n",
        "sample1 = (1, 2, 3, 4, 5, 6, 7, 8, 9, 10)\n",
        "print(sample1[0:8])"
      ],
      "metadata": {
        "colab": {
          "base_uri": "https://localhost:8080/"
        },
        "id": "UxAANaMbKxq_",
        "outputId": "61fab9dd-bc85-4d2c-cb0f-6d660865b366"
      },
      "execution_count": null,
      "outputs": [
        {
          "output_type": "stream",
          "name": "stdout",
          "text": [
            "(2, 3)\n",
            "(1, 2, 3, 4, 5, 6, 7, 8)\n"
          ]
        }
      ]
    },
    {
      "cell_type": "code",
      "source": [
        "# 음수 인덱스\n",
        "sample = (1, 2, 3, 4, 5, 6, 7, 8, 9, 10)\n",
        "print(sample[-1])\n",
        "print(sample[-3])\n",
        "# 앞에서 2개만 출력\n",
        "print(sample[:2])\n",
        "# 뒤에서 2개만 출력\n",
        "print(sample[-2:])\n"
      ],
      "metadata": {
        "colab": {
          "base_uri": "https://localhost:8080/"
        },
        "id": "fWQtLjHBLn1f",
        "outputId": "bef7ac6c-5f39-47d8-f435-aacd88bc0d49"
      },
      "execution_count": null,
      "outputs": [
        {
          "output_type": "stream",
          "name": "stdout",
          "text": [
            "10\n",
            "8\n",
            "(1, 2)\n",
            "(9, 10)\n"
          ]
        }
      ]
    },
    {
      "cell_type": "code",
      "source": [
        "sample = list(range(10000))\n",
        "sample[-5:]"
      ],
      "metadata": {
        "colab": {
          "base_uri": "https://localhost:8080/"
        },
        "id": "wMowQNycNuGH",
        "outputId": "8a8da625-0746-43b8-a23c-87a1f4db08cb"
      },
      "execution_count": null,
      "outputs": [
        {
          "output_type": "execute_result",
          "data": {
            "text/plain": [
              "[9995, 9996, 9997, 9998, 9999]"
            ]
          },
          "metadata": {},
          "execution_count": 26
        }
      ]
    },
    {
      "cell_type": "code",
      "source": [
        "sample = list(range(10))\n",
        "# start index : endindex : step\n",
        "sample [ 0: 6 : 1]\n",
        "sample [ : : 3]"
      ],
      "metadata": {
        "id": "FrHVS0hiO7ZQ",
        "colab": {
          "base_uri": "https://localhost:8080/"
        },
        "outputId": "2bd2489a-68fd-44ea-9221-a532c6a63719"
      },
      "execution_count": 32,
      "outputs": [
        {
          "output_type": "execute_result",
          "data": {
            "text/plain": [
              "[0, 3, 6, 9]"
            ]
          },
          "metadata": {},
          "execution_count": 32
        }
      ]
    },
    {
      "cell_type": "code",
      "source": [
        "sample [ : : -1]"
      ],
      "metadata": {
        "colab": {
          "base_uri": "https://localhost:8080/"
        },
        "id": "WrTDken0S4O6",
        "outputId": "68e2d921-dfcf-4850-977e-f52be7315bbd"
      },
      "execution_count": 34,
      "outputs": [
        {
          "output_type": "execute_result",
          "data": {
            "text/plain": [
              "[9, 8, 7, 6, 5, 4, 3, 2, 1, 0]"
            ]
          },
          "metadata": {},
          "execution_count": 34
        }
      ]
    },
    {
      "cell_type": "code",
      "source": [
        "sample [ : : -2]"
      ],
      "metadata": {
        "colab": {
          "base_uri": "https://localhost:8080/"
        },
        "id": "q3SKIvKNTTVZ",
        "outputId": "1634e8de-9ef4-48b5-a520-a1fcabb326a3"
      },
      "execution_count": 35,
      "outputs": [
        {
          "output_type": "execute_result",
          "data": {
            "text/plain": [
              "[9, 7, 5, 3, 1]"
            ]
          },
          "metadata": {},
          "execution_count": 35
        }
      ]
    },
    {
      "cell_type": "code",
      "source": [
        "# 딕셔너리 생성하기\n",
        "my_dict = {'apple': 1, 'banana': 2, 'cherry': 3}\n",
        "print(my_dict)\n",
        "score1 = {'kor': 90, 'eng': 85, 'math': 95}\n",
        "score2 = {'eng': 90, 'math': 85, 'kor': 95}\n",
        "print(score1)\n",
        "print(score2)"
      ],
      "metadata": {
        "colab": {
          "base_uri": "https://localhost:8080/"
        },
        "id": "ndVXpyFkTinr",
        "outputId": "99548eb1-5e6f-4575-de1e-b1973a786181"
      },
      "execution_count": 44,
      "outputs": [
        {
          "output_type": "stream",
          "name": "stdout",
          "text": [
            "{'apple': 1, 'banana': 2, 'cherry': 3}\n",
            "{'kor': 90, 'eng': 85, 'math': 95}\n",
            "{'eng': 90, 'math': 85, 'kor': 95}\n"
          ]
        }
      ]
    },
    {
      "cell_type": "code",
      "source": [
        "# 비어있는 딕셔너리를 만들 때는\n",
        "empty_dict = {}\n",
        "empty_dict = dict() # 함수표현\n",
        "print(empty_dict)\n",
        "\n",
        "# 비어있는 튜플\n",
        "empty_tuple = ()\n",
        "empty_tuple = tuple()\n",
        "\n",
        "# 비어있는 리스트\n",
        "empty_list = []\n",
        "empty_list = list()\n"
      ],
      "metadata": {
        "colab": {
          "base_uri": "https://localhost:8080/"
        },
        "id": "sq7y12wjVjMC",
        "outputId": "7988437f-0cce-4c76-f343-6d7e1795d772"
      },
      "execution_count": 47,
      "outputs": [
        {
          "output_type": "stream",
          "name": "stdout",
          "text": [
            "{}\n"
          ]
        }
      ]
    },
    {
      "cell_type": "code",
      "source": [
        "my_dict = {'apple': 1, 'banana': 2, 'cherry': 3}\n",
        "# 값에 접근 및 변경\n",
        "my_dict['apple'] = 100\n",
        "print(my_dict)\n",
        "my_dict['grape'] = 1000\n",
        "print(my_dict)"
      ],
      "metadata": {
        "colab": {
          "base_uri": "https://localhost:8080/"
        },
        "id": "kZpbjEmLWQpS",
        "outputId": "74bcc027-1823-470c-d98a-bc853e43fb96"
      },
      "execution_count": 69,
      "outputs": [
        {
          "output_type": "stream",
          "name": "stdout",
          "text": [
            "{'apple': 100, 'banana': 2, 'cherry': 3}\n",
            "{'apple': 100, 'banana': 2, 'cherry': 3, 'grape': 1000}\n"
          ]
        }
      ]
    },
    {
      "cell_type": "code",
      "source": [
        "my_dict['orange'] = 300\n",
        "print(my_dict)"
      ],
      "metadata": {
        "colab": {
          "base_uri": "https://localhost:8080/"
        },
        "id": "DR-b6i4bXA0C",
        "outputId": "ef524b95-2443-44fb-e06b-a6ce07b0cebd"
      },
      "execution_count": 60,
      "outputs": [
        {
          "output_type": "stream",
          "name": "stdout",
          "text": [
            "{'apple': 100, 'banana': 2, 'cherry': 3, 'grape': 1000, 'orange': 300}\n"
          ]
        }
      ]
    },
    {
      "cell_type": "code",
      "source": [
        "my_dict.get('orange')"
      ],
      "metadata": {
        "colab": {
          "base_uri": "https://localhost:8080/"
        },
        "id": "bPOqt3sPXLAC",
        "outputId": "b65718b0-e4eb-4143-c75f-c1f9bf446110"
      },
      "execution_count": 61,
      "outputs": [
        {
          "output_type": "execute_result",
          "data": {
            "text/plain": [
              "300"
            ]
          },
          "metadata": {},
          "execution_count": 61
        }
      ]
    },
    {
      "cell_type": "code",
      "source": [
        "# 삭제\n",
        "del my_dict['orange']\n",
        "print(my_dict)\n"
      ],
      "metadata": {
        "colab": {
          "base_uri": "https://localhost:8080/"
        },
        "id": "D_KSgs5HX-Xa",
        "outputId": "15b0410b-1b59-4c82-a9cd-a239bdc2dd72"
      },
      "execution_count": 62,
      "outputs": [
        {
          "output_type": "stream",
          "name": "stdout",
          "text": [
            "{'apple': 100, 'banana': 2, 'cherry': 3, 'grape': 1000}\n"
          ]
        }
      ]
    },
    {
      "cell_type": "code",
      "source": [
        "my_dict.values()"
      ],
      "metadata": {
        "colab": {
          "base_uri": "https://localhost:8080/"
        },
        "id": "94hKivw7ZZij",
        "outputId": "a2332abf-939c-420e-823d-b45b43e3648b"
      },
      "execution_count": 63,
      "outputs": [
        {
          "output_type": "execute_result",
          "data": {
            "text/plain": [
              "dict_values([100, 2, 3, 1000])"
            ]
          },
          "metadata": {},
          "execution_count": 63
        }
      ]
    },
    {
      "cell_type": "code",
      "source": [
        "my_dict.items()"
      ],
      "metadata": {
        "colab": {
          "base_uri": "https://localhost:8080/"
        },
        "id": "7eFUY4f-Zcgi",
        "outputId": "70c1e0d7-2f19-428e-93be-ce355c078360"
      },
      "execution_count": 64,
      "outputs": [
        {
          "output_type": "execute_result",
          "data": {
            "text/plain": [
              "dict_items([('apple', 100), ('banana', 2), ('cherry', 3), ('grape', 1000)])"
            ]
          },
          "metadata": {},
          "execution_count": 64
        }
      ]
    },
    {
      "cell_type": "code",
      "source": [
        "my_dict.pop('apple')\n"
      ],
      "metadata": {
        "colab": {
          "base_uri": "https://localhost:8080/"
        },
        "id": "QEHAogPEZfIK",
        "outputId": "96464cf6-7f8e-4661-a272-5a71df901df5"
      },
      "execution_count": 70,
      "outputs": [
        {
          "output_type": "execute_result",
          "data": {
            "text/plain": [
              "100"
            ]
          },
          "metadata": {},
          "execution_count": 70
        }
      ]
    },
    {
      "cell_type": "code",
      "source": [
        "scores = {'kor': 90, 'eng': 85, 'math': 95}\n",
        "\n",
        "'kor' in scores # scores의 키값중에 'kor'이 있는 지 물어본다.\n"
      ],
      "metadata": {
        "colab": {
          "base_uri": "https://localhost:8080/"
        },
        "id": "0K9ieQS_boQr",
        "outputId": "b1179678-3652-4f6b-c9d6-59a9d6f64739"
      },
      "execution_count": 72,
      "outputs": [
        {
          "output_type": "execute_result",
          "data": {
            "text/plain": [
              "True"
            ]
          },
          "metadata": {},
          "execution_count": 72
        }
      ]
    },
    {
      "source": [
        "# 딕셔너리 생성 예제\n",
        "\n",
        "# key-value 쌍으로 이루어진 딕셔너리 생성\n",
        "my_dict = {\"apple\": 1, \"banana\": 2, \"cherry\": 3}\n",
        "print(my_dict) # 딕셔너리 출력\n",
        "\n",
        "# key를 사용하여 value 접근\n",
        "print(my_dict[\"apple\"])\n",
        "print(my_dict[\"banana\"])\n",
        "\n",
        "# 딕셔너리에 새로운 key-value 쌍 추가\n",
        "my_dict[\"date\"] = 4\n",
        "print(my_dict)\n",
        "\n",
        "# key를 사용하여 value 수정\n",
        "my_dict[\"apple\"] = 10\n",
        "print(my_dict)\n",
        "\n",
        "# key를 사용하여 key-value 쌍 삭제\n",
        "del my_dict[\"banana\"]\n",
        "print(my_dict)\n",
        "\n",
        "# 딕셔너리의 모든 key 가져오기\n",
        "keys = my_dict.keys()\n",
        "print(keys)\n",
        "\n",
        "# 딕셔너리의 모든 value 가져오기\n",
        "values = my_dict.values()\n",
        "print(values)\n",
        "\n",
        "# 딕셔너리의 모든 key-value 쌍 가져오기\n",
        "items = my_dict.items()\n",
        "print(items)\n",
        "\n",
        "# 딕셔너리 길이 확인\n",
        "print(len(my_dict))\n",
        "\n",
        "# key 존재 여부 확인\n",
        "print(\"apple\" in my_dict)\n",
        "print(\"banana\" in my_dict)\n",
        "\n",
        "# 딕셔너리 반복 (key를 중심으로)\n",
        "for key in my_dict:\n",
        "  print(key, my_dict[key])\n",
        "\n",
        "# 딕셔너리 반복 (key-value 쌍으로)\n",
        "for key, value in my_dict.items():\n",
        "  print(key, value)\n",
        "\n",
        "# 중첩 딕셔너리\n",
        "nested_dict = {\"person1\": {\"name\": \"홍길동\", \"age\": 20}, \"person2\": {\"name\": \"김철수\", \"age\": 25}}\n",
        "print(nested_dict)\n",
        "print(nested_dict[\"person1\"][\"name\"])"
      ],
      "cell_type": "code",
      "metadata": {
        "colab": {
          "base_uri": "https://localhost:8080/"
        },
        "id": "D0wWPNCyUSqZ",
        "outputId": "bbe9c62d-56ce-4808-9378-565f283217af"
      },
      "execution_count": 37,
      "outputs": [
        {
          "output_type": "stream",
          "name": "stdout",
          "text": [
            "{'apple': 1, 'banana': 2, 'cherry': 3}\n",
            "1\n",
            "2\n",
            "{'apple': 1, 'banana': 2, 'cherry': 3, 'date': 4}\n",
            "{'apple': 10, 'banana': 2, 'cherry': 3, 'date': 4}\n",
            "{'apple': 10, 'cherry': 3, 'date': 4}\n",
            "dict_keys(['apple', 'cherry', 'date'])\n",
            "dict_values([10, 3, 4])\n",
            "dict_items([('apple', 10), ('cherry', 3), ('date', 4)])\n",
            "3\n",
            "True\n",
            "False\n",
            "apple 10\n",
            "cherry 3\n",
            "date 4\n",
            "apple 10\n",
            "cherry 3\n",
            "date 4\n",
            "{'person1': {'name': '홍길동', 'age': 20}, 'person2': {'name': '김철수', 'age': 25}}\n",
            "홍길동\n"
          ]
        }
      ]
    },
    {
      "cell_type": "code",
      "source": [
        "5 // 3 # 몫"
      ],
      "metadata": {
        "colab": {
          "base_uri": "https://localhost:8080/"
        },
        "id": "5GNjErOyf-Yk",
        "outputId": "ea132eab-a101-4723-c6b6-3028fc02fd55"
      },
      "execution_count": 81,
      "outputs": [
        {
          "output_type": "execute_result",
          "data": {
            "text/plain": [
              "1"
            ]
          },
          "metadata": {},
          "execution_count": 81
        }
      ]
    },
    {
      "cell_type": "code",
      "source": [
        "5 % 3 # 나머지"
      ],
      "metadata": {
        "colab": {
          "base_uri": "https://localhost:8080/"
        },
        "id": "GtC4amGGf_OU",
        "outputId": "23cbb0bc-a9bc-41f4-8ed3-4165b594054c"
      },
      "execution_count": 82,
      "outputs": [
        {
          "output_type": "execute_result",
          "data": {
            "text/plain": [
              "2"
            ]
          },
          "metadata": {},
          "execution_count": 82
        }
      ]
    },
    {
      "cell_type": "code",
      "source": [
        "# 제곱근\n",
        "5**2"
      ],
      "metadata": {
        "colab": {
          "base_uri": "https://localhost:8080/"
        },
        "id": "Lo3XBNtBgDI9",
        "outputId": "b7758f2e-3cde-41b3-a9d4-bf346a75f83c"
      },
      "execution_count": 84,
      "outputs": [
        {
          "output_type": "execute_result",
          "data": {
            "text/plain": [
              "25"
            ]
          },
          "metadata": {},
          "execution_count": 84
        }
      ]
    },
    {
      "cell_type": "code",
      "source": [
        "# 논리연산 / 참과 거짓"
      ],
      "metadata": {
        "id": "dQtcBGQ3gEn9"
      },
      "execution_count": null,
      "outputs": []
    },
    {
      "cell_type": "code",
      "source": [
        "# a = b # 대입연산자\n",
        "# a == b # 같다\n",
        "# a != b # 같지않다\n",
        "# a >= b\n",
        "# a <= b\n",
        "# a > b\n",
        "# a < b"
      ],
      "metadata": {
        "id": "SAKicSxnjKfd"
      },
      "execution_count": 85,
      "outputs": []
    },
    {
      "cell_type": "code",
      "source": [
        "# 조건문\n",
        "# if ~ else\n",
        "print('담배와 술을 주세요')\n",
        "print('미성년자는 안돼요 혹시 몇 살이세요?')\n",
        "age = int(input('제 나이는 :'))\n",
        "if age > 19:\n",
        "  print('네 술과 담배가 있습니다. ')\n",
        "  print('감사합니다.')\n",
        "  print('안녕히 가세요')\n",
        "print('또 오세요.')\n",
        "\n",
        "# if False:\n",
        "#   print('안녕하세요')\n",
        "# print('반가워요')"
      ],
      "metadata": {
        "colab": {
          "base_uri": "https://localhost:8080/"
        },
        "id": "Cf3wf0jdjVIF",
        "outputId": "ff4b24dc-8ccd-4b81-b19a-b2c8a0f00cbf"
      },
      "execution_count": 94,
      "outputs": [
        {
          "output_type": "stream",
          "name": "stdout",
          "text": [
            "담배와 술을 주세요\n",
            "미성년자는 안돼요 혹시 몇 살이세요?\n",
            "제 나이는 :20\n",
            "네 술과 담배가 있습니다. \n",
            "감사합니다.\n",
            "안녕히 가세요\n",
            "또 오세요.\n"
          ]
        }
      ]
    },
    {
      "cell_type": "code",
      "source": [
        "score = int(input('점수를 입력하세요'))\n",
        "# 60점 이상이면 합격\n",
        "if score >= 60:\n",
        "  print('합격입니다.')\n",
        "else:\n",
        "  print('아쉽지만 다음에 다시 도전해 주세요.')"
      ],
      "metadata": {
        "colab": {
          "base_uri": "https://localhost:8080/"
        },
        "id": "O_7s45snje7l",
        "outputId": "57f841e2-eb4f-44dd-ecb3-4a3bf4874e41"
      },
      "execution_count": 98,
      "outputs": [
        {
          "output_type": "stream",
          "name": "stdout",
          "text": [
            "점수를 입력하세요65\n",
            "합격입니다.\n"
          ]
        }
      ]
    },
    {
      "cell_type": "code",
      "source": [
        "# A 90 ~ 100\n",
        "# B 80 ~ 89\n",
        "# C 70 ~ 79\n",
        "\n",
        "score = int(input('점수를 입력하세요'))\n",
        "# A 90 ~ 100\n",
        "# B 80 ~ 89\n",
        "# C 70 ~ 79\n",
        "if score >= 90:\n",
        "  print('A입니다.')\n",
        "else:\n",
        "  if score >= 80 and score < 90:\n",
        "    print('B입니다.')\n",
        "  else:\n",
        "    if score >= 70 and score < 80:\n",
        "      print('C입니다.')\n",
        "    else:\n",
        "      print('D입니다.')\n",
        "\n",
        "\n"
      ],
      "metadata": {
        "colab": {
          "base_uri": "https://localhost:8080/"
        },
        "id": "dZ9Y-n6Vl-ee",
        "outputId": "e45066d6-6145-483b-d952-f295b983c63a"
      },
      "execution_count": 105,
      "outputs": [
        {
          "output_type": "stream",
          "name": "stdout",
          "text": [
            "점수를 입력하세요60\n",
            "D입니다.\n"
          ]
        }
      ]
    },
    {
      "cell_type": "code",
      "source": [],
      "metadata": {
        "id": "gdtaTlbHo1mZ"
      },
      "execution_count": null,
      "outputs": []
    }
  ]
}